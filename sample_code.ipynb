{
 "cells": [
  {
   "cell_type": "markdown",
   "metadata": {},
   "source": [
    "# Jupyter Notebook on Binder (beta)\n",
    "\n",
    "## Python3 kernel is running\n",
    "\n",
    "## Available Libraries \n",
    "__You can use these libraries (written in requirements3.txt)__\n",
    "- Numpy\n",
    "- Pandas\n",
    "- Scipy\n",
    "- Matplotlib \n",
    "- seaborn\n",
    "- PyMC3"
   ]
  },
  {
   "cell_type": "code",
   "execution_count": 3,
   "metadata": {},
   "outputs": [
    {
     "name": "stdout",
     "output_type": "stream",
     "text": [
      "Package                  Version  \r\n",
      "------------------------ ---------\r\n",
      "appnope                  0.1.0    \r\n",
      "backcall                 0.1.0    \r\n",
      "bleach                   2.1.4    \r\n",
      "bokeh                    0.13.0   \r\n",
      "cachetools               2.1.0    \r\n",
      "certifi                  2018.8.24\r\n",
      "chardet                  3.0.4    \r\n",
      "Click                    7.0      \r\n",
      "cycler                   0.10.0   \r\n",
      "decorator                4.3.0    \r\n",
      "docutils                 0.14     \r\n",
      "entrypoints              0.2.3    \r\n",
      "Flask                    1.0.2    \r\n",
      "google-api-python-client 1.7.4    \r\n",
      "google-auth              1.5.1    \r\n",
      "google-auth-httplib2     0.0.3    \r\n",
      "google-auth-oauthlib     0.2.0    \r\n",
      "html5lib                 1.0.1    \r\n",
      "httplib2                 0.11.3   \r\n",
      "idna                     2.7      \r\n",
      "ipykernel                4.8.2    \r\n",
      "ipython                  6.5.0    \r\n",
      "ipython-genutils         0.2.0    \r\n",
      "ipywidgets               7.4.0    \r\n",
      "itsdangerous             0.24     \r\n",
      "jedi                     0.12.1   \r\n",
      "Jinja2                   2.10     \r\n",
      "jsonschema               2.6.0    \r\n",
      "jupyter                  1.0.0    \r\n",
      "jupyter-client           5.2.3    \r\n",
      "jupyter-console          5.2.0    \r\n",
      "jupyter-core             4.4.0    \r\n",
      "kiwisolver               1.0.1    \r\n",
      "llvmlite                 0.24.0   \r\n",
      "MarkupSafe               1.0      \r\n",
      "matplotlib               2.2.3    \r\n",
      "mistune                  0.8.3    \r\n",
      "nbconvert                5.3.1    \r\n",
      "nbformat                 4.4.0    \r\n",
      "notebook                 5.6.0    \r\n",
      "numba                    0.39.0   \r\n",
      "numpy                    1.14.5   \r\n",
      "oauth2client             4.1.3    \r\n",
      "oauthlib                 2.1.0    \r\n",
      "packaging                17.1     \r\n",
      "pandas                   0.23.4   \r\n",
      "pandocfilters            1.4.2    \r\n",
      "parso                    0.3.1    \r\n",
      "pexpect                  4.6.0    \r\n",
      "pickleshare              0.7.4    \r\n",
      "pip                      18.1     \r\n",
      "prometheus-client        0.3.1    \r\n",
      "prompt-toolkit           1.0.15   \r\n",
      "ptyprocess               0.6.0    \r\n",
      "pyasn1                   0.4.4    \r\n",
      "pyasn1-modules           0.2.2    \r\n",
      "Pygments                 2.2.0    \r\n",
      "pyparsing                2.2.0    \r\n",
      "pysam                    0.15.0   \r\n",
      "python-dateutil          2.7.3    \r\n",
      "pytz                     2018.5   \r\n",
      "PyYAML                   3.13     \r\n",
      "pyzmq                    17.1.2   \r\n",
      "qtconsole                4.4.0    \r\n",
      "requests                 2.19.1   \r\n",
      "requests-oauthlib        1.0.0    \r\n",
      "rpy2                     2.9.4    \r\n",
      "rsa                      4.0      \r\n",
      "scipy                    1.1.0    \r\n",
      "seaborn                  0.9.0    \r\n",
      "Send2Trash               1.5.0    \r\n",
      "setuptools               28.8.0   \r\n",
      "simplegeneric            0.8.1    \r\n",
      "six                      1.11.0   \r\n",
      "statistics               1.0.3.5  \r\n",
      "terminado                0.8.1    \r\n",
      "testpath                 0.3.1    \r\n",
      "tornado                  5.1      \r\n",
      "traitlets                4.3.2    \r\n",
      "uritemplate              3.0.0    \r\n",
      "urllib3                  1.23     \r\n",
      "wcwidth                  0.1.7    \r\n",
      "webencodings             0.5.1    \r\n",
      "Werkzeug                 0.14.1   \r\n",
      "widgetsnbextension       3.4.0    \r\n"
     ]
    }
   ],
   "source": [
    "!pip list"
   ]
  },
  {
   "cell_type": "code",
   "execution_count": null,
   "metadata": {
    "collapsed": true
   },
   "outputs": [],
   "source": []
  }
 ],
 "metadata": {
  "kernelspec": {
   "display_name": "Python 3",
   "language": "python",
   "name": "python3"
  },
  "language_info": {
   "codemirror_mode": {
    "name": "ipython",
    "version": 3
   },
   "file_extension": ".py",
   "mimetype": "text/x-python",
   "name": "python",
   "nbconvert_exporter": "python",
   "pygments_lexer": "ipython3",
   "version": "3.6.3"
  }
 },
 "nbformat": 4,
 "nbformat_minor": 1
}
